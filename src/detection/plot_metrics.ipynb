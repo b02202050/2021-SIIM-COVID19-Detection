{
 "cells": [
  {
   "cell_type": "code",
   "execution_count": null,
   "metadata": {},
   "outputs": [],
   "source": [
    "import matplotlib.pyplot as plt\n",
    "import os\n",
    "root = '.'"
   ]
  },
  {
   "cell_type": "code",
   "execution_count": null,
   "metadata": {},
   "outputs": [],
   "source": [
    "def plot_history(file_name, annotation, ymin=60, ymax=100, metric='ACC', xmax=None, plot_test=False):\n",
    "    # read file\n",
    "    with open(file_name, \"r\") as f:\n",
    "        lines = [x[:-1] if x[-1] == '\\n' else x for x in f.readlines()]\n",
    "        \n",
    "    if len(lines[0].split()) == 2:\n",
    "        has_test = False\n",
    "    elif len(lines[0].split()) == 3:\n",
    "        has_test = True\n",
    "    plot_test = (plot_test and has_test)\n",
    "\n",
    "    val_scores = []\n",
    "    train_scores = []\n",
    "    test_scores = []\n",
    "    train_idxes = []\n",
    "    val_idxes = []\n",
    "    for i, line in enumerate(lines):\n",
    "        val_idxes.append(i+1)\n",
    "        val_scores.append(float(line.split()[0]))\n",
    "        if plot_test:\n",
    "            test_scores.append(float(line.split()[1]))\n",
    "        if i == 0 or i % 5 == 4:\n",
    "            train_idxes.append(i+1)\n",
    "            train_scores.append(float(line.split()[-1]))\n",
    "\n",
    "    max_index = val_scores.index(max(val_scores))\n",
    "    print('best valid. {} = {:0.4f} (@Epoch {}{})'.format(metric, val_scores[max_index], val_idxes[max_index], (', test mAP = ' + f'{test_scores[max_index]}') if plot_test else ''))\n",
    "    max_index_train = train_scores.index(max(train_scores))\n",
    "    print('best train. {} = {:0.4f} (@Epoch {})'.format(metric, train_scores[max_index_train], (train_idxes[max_index_train])))\n",
    "    print('training_epochs:',len(val_scores))\n",
    "    \n",
    "    #plot line chart\n",
    "    plt.plot(train_idxes,train_scores)\n",
    "    plt.plot(val_idxes,val_scores)\n",
    "    if plot_test:\n",
    "        plt.plot(val_idxes,test_scores)\n",
    "    plt.axvline(x=max_index+1, color = 'red', linewidth = 1)\n",
    "    plt.title(annotation)\n",
    "    plt.ylabel(f'{metric}')\n",
    "    plt.xlabel('epoch')\n",
    "    plt.ylim(ymin, ymax)\n",
    "    if xmax is not None:\n",
    "        plt.xlim(0, xmax)\n",
    "    plt.legend(['train', 'validation'] + (['testing'] if plot_test else []))\n",
    "    plt.grid()\n",
    "    plt.show()"
   ]
  },
  {
   "cell_type": "code",
   "execution_count": null,
   "metadata": {},
   "outputs": [],
   "source": [
    "work_dir = 'work_dir/covid19_kaggle_train_cv_5_0_run1'\n",
    "log_path = os.path.join(work_dir, 'log_mAP.txt')\n",
    "plot_history(log_path, os.path.splitext(os.path.split(log_path)[-1])[0], ymin=0., ymax=1, metric='mAP')"
   ]
  }
 ],
 "metadata": {
  "kernelspec": {
   "display_name": "Python 3",
   "language": "python",
   "name": "python3"
  },
  "language_info": {
   "codemirror_mode": {
    "name": "ipython",
    "version": 3
   },
   "file_extension": ".py",
   "mimetype": "text/x-python",
   "name": "python",
   "nbconvert_exporter": "python",
   "pygments_lexer": "ipython3",
   "version": "3.6.10"
  }
 },
 "nbformat": 4,
 "nbformat_minor": 4
}
