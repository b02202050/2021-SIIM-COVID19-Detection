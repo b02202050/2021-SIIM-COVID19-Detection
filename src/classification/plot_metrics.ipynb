{
 "cells": [
  {
   "cell_type": "code",
   "execution_count": null,
   "metadata": {},
   "outputs": [],
   "source": [
    "import os\n",
    "import matplotlib.pyplot as plt\n",
    "root = '.'"
   ]
  },
  {
   "cell_type": "code",
   "execution_count": null,
   "metadata": {},
   "outputs": [],
   "source": [
    "def plot_history(file_name,\n",
    "                     annotation,\n",
    "                     first_train,\n",
    "                     ymin=60,\n",
    "                     ymax=100,\n",
    "                     metric='ACC'):\n",
    "    \"\"\" Plot the history of metrics. Despite the function name is called acc,\n",
    "        this function is not restricted to plot acc. \"\"\"\n",
    "    # read file\n",
    "    text_file = open(file_name, \"r\")\n",
    "    lines = text_file.readlines()\n",
    "\n",
    "    #access acc\n",
    "    acc_valid = []\n",
    "    acc_train = []\n",
    "    for line in lines:\n",
    "        if len(line.split()) == 1:\n",
    "            acc_valid.append(float(line[:-2]))\n",
    "        else:\n",
    "            acc_valid.append(float(line.split()[0]))\n",
    "            acc_train.append(float(line.split()[1][:-2]))\n",
    "    text_file.close()\n",
    "\n",
    "    if not first_train:\n",
    "        x = list(range(5, len(acc_valid) + 1, 5))\n",
    "    else:\n",
    "        x = list(range(5, len(acc_valid) + 1, 5))\n",
    "        x = [1] + x\n",
    "    x_ = list(range(1, len(acc_valid) + 1))\n",
    "\n",
    "    #print best acc\n",
    "    max_index = acc_valid.index(max(acc_valid))\n",
    "    print('best valid. {} = {:0.4f} (@Epoch {})'.format(metric,\n",
    "                                                        acc_valid[max_index],\n",
    "                                                        max_index + 1))\n",
    "    max_index_train = acc_train.index(max(acc_train))\n",
    "    print('best train. {} = {:0.4f} (@Epoch {})'.format(\n",
    "        metric, acc_train[max_index_train], (x[max_index_train])))\n",
    "    print('training_epochs:', len(acc_valid))\n",
    "\n",
    "    #plot line chart\n",
    "    plt.plot(x, acc_train)\n",
    "    plt.plot(x_, acc_valid)\n",
    "    plt.axvline(x=max_index + 1, color='red', linewidth=1)\n",
    "    plt.title(annotation)\n",
    "    plt.ylabel(f'{metric}')\n",
    "    plt.xlabel('epoch')\n",
    "    plt.ylim(ymin, ymax)\n",
    "    plt.legend(['train', 'validation'])\n",
    "    plt.grid()\n",
    "    plt.show()\n",
    "    #print(acc_valid[max_index])"
   ]
  },
  {
   "cell_type": "code",
   "execution_count": null,
   "metadata": {},
   "outputs": [],
   "source": [
    "model_folder = 'work_dir/covid19_kaggle_train_cv_5_0_run1'\n",
    "log_path = os.path.join(model_folder, 'log_auc.txt')\n",
    "plot_history(log_path, '', True, ymin=0.0, ymax=1, metric='AUC')"
   ]
  }
 ],
 "metadata": {
  "kernelspec": {
   "display_name": "Python 3",
   "language": "python",
   "name": "python3"
  },
  "language_info": {
   "codemirror_mode": {
    "name": "ipython",
    "version": 3
   },
   "file_extension": ".py",
   "mimetype": "text/x-python",
   "name": "python",
   "nbconvert_exporter": "python",
   "pygments_lexer": "ipython3",
   "version": "3.6.10"
  }
 },
 "nbformat": 4,
 "nbformat_minor": 4
}
